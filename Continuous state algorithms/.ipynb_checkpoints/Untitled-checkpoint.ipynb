{
 "cells": [
  {
   "cell_type": "code",
   "execution_count": null,
   "id": "7108a16e-9dd5-4b7e-a03a-673d1254d527",
   "metadata": {},
   "outputs": [],
   "source": [
    "import random\n",
    "import numpy as np\n",
    "import matplotlib.pyplot as plt\n",
    "from tqdm import tqdm\n",
    "\n",
    "import gym"
   ]
  },
  {
   "cell_type": "code",
   "execution_count": null,
   "id": "825dd465-8eae-4155-8118-198f189afecd",
   "metadata": {},
   "outputs": [],
   "source": [
    "env = gym.make(\"MountainCar-v0\", render_mode=\"rgb_array\")"
   ]
  },
  {
   "cell_type": "code",
   "execution_count": null,
   "id": "e56e1721-5a81-460a-ad6d-9d6ab91a5ce7",
   "metadata": {},
   "outputs": [],
   "source": [
    "env.reset()"
   ]
  },
  {
   "cell_type": "code",
   "execution_count": null,
   "id": "cb5a4c0f-da1f-482d-8085-ba820c75e0f5",
   "metadata": {},
   "outputs": [],
   "source": [
    "frame = env.render()\n",
    "plt.imshow(frame)"
   ]
  },
  {
   "cell_type": "code",
   "execution_count": null,
   "id": "417ab524-be2e-4ab3-bfaf-def93e768816",
   "metadata": {},
   "outputs": [],
   "source": [
    "class StateAgg(gym.ObservationWrapper):\n",
    "    def __init__(self, env, low, high, bins):\n",
    "        super().__init__(env)\n",
    "        self.buckets = [np.linspace(l, h, b - 1) for l, h, b in zip(low, high, bins)]\n",
    "        self.observation_space = gym.spaces.MultiDiscrete(nvec=bins.tolist())\n",
    "\n",
    "    def observation(self, state):\n",
    "        indices = tuple(np.digitize(cont, buck) for cont, buck in zip(state, self.buckets))\n",
    "        return indices"
   ]
  },
  {
   "cell_type": "code",
   "execution_count": null,
   "id": "940f2d3b-aff5-4592-8a48-5757a617f072",
   "metadata": {},
   "outputs": [],
   "source": [
    "bins = np.array([20, 20])\n",
    "low  = env.observation_space.low\n",
    "high  = env.observation_space.high\n",
    "sag_env = StateAgg(env, low, high, bins)"
   ]
  },
  {
   "cell_type": "code",
   "execution_count": null,
   "id": "d12614e6-0122-4658-80e3-07987cbf125e",
   "metadata": {},
   "outputs": [],
   "source": [
    "sag_env.buckets"
   ]
  },
  {
   "cell_type": "code",
   "execution_count": null,
   "id": "abded662-b417-4846-84c8-7d681ea2fb31",
   "metadata": {},
   "outputs": [],
   "source": [
    "Q = np.zeros((20, 20, 3))"
   ]
  },
  {
   "cell_type": "code",
   "execution_count": null,
   "id": "5fdb3b6f-832f-4304-a79f-fd568f4a0971",
   "metadata": {},
   "outputs": [],
   "source": [
    "def policy(state, epsilon = 0.2):\n",
    "    if np.random.uniform() < epsilon:\n",
    "        return np.random.randint(low = 0, high = 2)\n",
    "    else:\n",
    "        av = Q[state]\n",
    "        return np.random.choice(np.flatnonzero(av == av.max()))"
   ]
  },
  {
   "cell_type": "code",
   "execution_count": null,
   "id": "bd31e969-3bfd-4db8-a043-723b73159185",
   "metadata": {},
   "outputs": [],
   "source": [
    "def SARSA(policy, Q, episodes, gamma=0.99, epsilon=0.2, alpha = 0.1):\n",
    "    stats = {\"returns\" : []}\n",
    "    for episode in tqdm(range(1, episodes+1)):\n",
    "        state = sag_env.reset()[0]\n",
    "        action = policy(state, epsilon)\n",
    "        done = False\n",
    "        episode_return = 0\n",
    "\n",
    "        while not done:\n",
    "            next_state, reward, done, _, _ = sag_env.step(action)\n",
    "            next_action = policy(next_state, epsilon)\n",
    "            \n",
    "            qsa = Q[state][action]\n",
    "            next_qsa = Q[next_state][next_action]\n",
    "            Q[state][action] = qsa + alpha * (reward + gamma * next_qsa - qsa)\n",
    "            state = next_state\n",
    "            action = next_action\n",
    "            episode_return += reward\n",
    "        stats[\"returns\"].append(episode_return)\n",
    "    return stats"
   ]
  },
  {
   "cell_type": "code",
   "execution_count": null,
   "id": "511731bc-6d30-46c5-be7f-221154428767",
   "metadata": {},
   "outputs": [],
   "source": [
    "stats = SARSA(policy, Q, 10000)"
   ]
  },
  {
   "cell_type": "code",
   "execution_count": null,
   "id": "193bcc0c-db3a-4fac-ab35-71a7af693d62",
   "metadata": {},
   "outputs": [],
   "source": [
    "plt.plot(stats[\"returns\"])"
   ]
  },
  {
   "cell_type": "code",
   "execution_count": null,
   "id": "449a722e-f365-4888-b675-cd506d3807b0",
   "metadata": {},
   "outputs": [],
   "source": [
    "plt.imshow(np.argmax(Q, axis = 2))"
   ]
  },
  {
   "cell_type": "code",
   "execution_count": null,
   "id": "fc544cee-9362-4cca-8b81-4b3a4c33cc88",
   "metadata": {},
   "outputs": [],
   "source": [
    "done = False\n",
    "state = sag_env.reset()[0]\n",
    "frames = []\n",
    "\n",
    "while not done:\n",
    "    av = Q[state]\n",
    "    action = np.random.choice(np.flatnonzero(av == av.max()))\n",
    "    print(next_s, action)\n",
    "    next_s, _, done, _, _ = sag_env.step(action)\n",
    "    frame = env.render()\n",
    "    frames.append(frame)"
   ]
  },
  {
   "cell_type": "code",
   "execution_count": null,
   "id": "af4c95e8-57a4-4634-912f-3c01dc9dbf34",
   "metadata": {},
   "outputs": [],
   "source": []
  }
 ],
 "metadata": {
  "kernelspec": {
   "display_name": "Python 3 (ipykernel)",
   "language": "python",
   "name": "python3"
  },
  "language_info": {
   "codemirror_mode": {
    "name": "ipython",
    "version": 3
   },
   "file_extension": ".py",
   "mimetype": "text/x-python",
   "name": "python",
   "nbconvert_exporter": "python",
   "pygments_lexer": "ipython3",
   "version": "3.12.4"
  }
 },
 "nbformat": 4,
 "nbformat_minor": 5
}
