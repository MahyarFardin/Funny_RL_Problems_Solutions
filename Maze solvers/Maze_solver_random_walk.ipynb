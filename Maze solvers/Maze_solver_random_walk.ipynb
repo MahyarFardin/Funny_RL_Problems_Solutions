{
 "cells": [
  {
   "cell_type": "code",
   "execution_count": 126,
   "id": "393b97cd-1c85-42f1-b3ca-9369c4f9499c",
   "metadata": {},
   "outputs": [],
   "source": [
    "import numpy as np\n",
    "from IPython.display import clear_output"
   ]
  },
  {
   "cell_type": "code",
   "execution_count": 151,
   "id": "b4b592dc-e22d-492a-b1ec-f49f571fde1b",
   "metadata": {},
   "outputs": [],
   "source": [
    "class Maze():\n",
    "    def __init__(self):\n",
    "        self.maze = np.array([\n",
    "            ['S', '0', '1', '0', '0'],\n",
    "            ['0', '1', '0', '1', '0'],\n",
    "            ['0', '0', '0', '1', '0'],\n",
    "            ['0', '1', '1', '1', '0'],\n",
    "            ['0', '0', '0', '0', 'G']\n",
    "        ])\n",
    "        self.reward        = 1\n",
    "        self.punish        = -1\n",
    "        self.gamma         = 0.5\n",
    "        self.start         = [0, 0]\n",
    "        self.goal          = (4, 4)\n",
    "        self.current_pos   = self.start\n",
    "        self.n_actions     = 4\n",
    "        self.current_steps = 0\n",
    "\n",
    "    def reset(self):\n",
    "        self.current_pos = self.start\n",
    "        self.current_action = 0\n",
    "        return self.current_pos\n",
    "\n",
    "    def step(self, action):\n",
    "        self.current_steps += 1\n",
    "        new_pos = self.current_pos.copy()\n",
    "        \n",
    "        if action == 0: # right\n",
    "            new_pos[1] += 1\n",
    "        elif action == 1: # down\n",
    "            new_pos[0] += 1\n",
    "        elif action == 2: # left\n",
    "            new_pos[1] -= 1\n",
    "        elif action == 3: # up\n",
    "            new_pos[0] -= 1\n",
    "\n",
    "        if new_pos[0] < 0 or new_pos[0] >= 5 or new_pos[1] < 0 or new_pos[1] >= 5 or self.maze[new_pos[0], new_pos[1]] == '1':\n",
    "            reward = -1\n",
    "            new_pos = self.current_pos\n",
    "\n",
    "        elif self.maze[new_pos[0], new_pos[1]] == \"G\":\n",
    "            reward = 1\n",
    "            done = True\n",
    "            \n",
    "        else:\n",
    "            reward = -0.1\n",
    "            done = False\n",
    "        \n",
    "        self.current_pos = new_pos\n",
    "        \n",
    "        if tuple(self.current_pos) == self.goal:\n",
    "            done = True\n",
    "            reward = 1\n",
    "            \n",
    "        else:\n",
    "            done = False\n",
    "        \n",
    "        return self.current_pos, reward, done\n",
    "    \n",
    "    def demonstrate(self):\n",
    "        maze_copy = self.maze.copy()\n",
    "        maze_copy[self.current_pos[0], self.current_pos[1]] = 'A'\n",
    "        for row in maze_copy:\n",
    "            print(' '.join(row))\n",
    "        print()"
   ]
  },
  {
   "cell_type": "code",
   "execution_count": 187,
   "id": "b116d691-9f4a-44c6-99eb-fc45d391bf61",
   "metadata": {},
   "outputs": [],
   "source": [
    "env = Maze()\n",
    "state = env.reset()\n",
    "done = False\n",
    "gamma = 0.6\n",
    "g = 0\n",
    "t = 0"
   ]
  },
  {
   "cell_type": "code",
   "execution_count": 188,
   "id": "ee26afa0-f283-48d0-92c3-a23a40ae5105",
   "metadata": {},
   "outputs": [
    {
     "name": "stdout",
     "output_type": "stream",
     "text": [
      "A 0 1 0 0\n",
      "0 1 0 1 0\n",
      "0 0 0 1 0\n",
      "0 1 1 1 0\n",
      "0 0 0 0 G\n",
      "\n"
     ]
    }
   ],
   "source": [
    "env.demonstrate()"
   ]
  },
  {
   "cell_type": "code",
   "execution_count": 189,
   "id": "396fc625-603d-4198-9a96-cc112d71bc21",
   "metadata": {},
   "outputs": [
    {
     "name": "stdout",
     "output_type": "stream",
     "text": [
      "S 0 1 0 0\n",
      "0 1 0 1 0\n",
      "0 0 0 1 0\n",
      "0 1 1 1 0\n",
      "0 0 0 0 A\n",
      "\n",
      "in 345 steps we got return 4.8309231851427355e-77\n"
     ]
    }
   ],
   "source": [
    "while not done:\n",
    "    action = np.random.choice(env.n_actions)\n",
    "    next_state, reward, done = env.step(action)\n",
    "    g = gamma ** t * reward\n",
    "    t += 1\n",
    "env.demonstrate()\n",
    "print(f\"in {t} steps we got return {g}\")"
   ]
  },
  {
   "cell_type": "code",
   "execution_count": 190,
   "id": "a0d85f73-469d-413e-93e3-b3e3e848b2c8",
   "metadata": {},
   "outputs": [],
   "source": [
    "def uniform_policy(state):\n",
    "    return np.array([1 / env.n_actions] * env.n_actions)"
   ]
  },
  {
   "cell_type": "code",
   "execution_count": 191,
   "id": "ed32c77d-3e05-4453-bb74-94ba1694b2ab",
   "metadata": {},
   "outputs": [],
   "source": [
    "env = Maze()\n",
    "state = env.reset()\n",
    "done = False\n",
    "gamma = 0.6\n",
    "g = 0\n",
    "t = 0"
   ]
  },
  {
   "cell_type": "code",
   "execution_count": 192,
   "id": "df2a36c7-6795-4002-b873-5347a2977bbe",
   "metadata": {},
   "outputs": [
    {
     "name": "stdout",
     "output_type": "stream",
     "text": [
      "A 0 1 0 0\n",
      "0 1 0 1 0\n",
      "0 0 0 1 0\n",
      "0 1 1 1 0\n",
      "0 0 0 0 G\n",
      "\n"
     ]
    }
   ],
   "source": [
    "env.demonstrate()"
   ]
  },
  {
   "cell_type": "code",
   "execution_count": 193,
   "id": "638e7bee-e5d1-4c54-a8d8-cc7f5e396245",
   "metadata": {},
   "outputs": [
    {
     "name": "stdout",
     "output_type": "stream",
     "text": [
      "S 0 1 0 0\n",
      "0 1 0 1 0\n",
      "0 0 0 1 0\n",
      "0 1 1 1 0\n",
      "0 0 0 0 A\n",
      "\n",
      "in 420 steps we got return 1.1101301830742745e-93\n"
     ]
    }
   ],
   "source": [
    "while not done:\n",
    "    action = np.random.choice(env.n_actions, p = uniform_policy(next_state))\n",
    "    next_state, reward, done = env.step(action)\n",
    "    g = gamma ** t * reward\n",
    "    t += 1\n",
    "env.demonstrate()\n",
    "print(f\"in {t} steps we got return {g}\")"
   ]
  }
 ],
 "metadata": {
  "kernelspec": {
   "display_name": "Python 3 (ipykernel)",
   "language": "python",
   "name": "python3"
  },
  "language_info": {
   "codemirror_mode": {
    "name": "ipython",
    "version": 3
   },
   "file_extension": ".py",
   "mimetype": "text/x-python",
   "name": "python",
   "nbconvert_exporter": "python",
   "pygments_lexer": "ipython3",
   "version": "3.10.14"
  }
 },
 "nbformat": 4,
 "nbformat_minor": 5
}
